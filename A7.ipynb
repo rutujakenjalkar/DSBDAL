{
 "cells": [
  {
   "cell_type": "markdown",
   "id": "9f4b67a6",
   "metadata": {},
   "source": [
    "Section A"
   ]
  },
  {
   "cell_type": "code",
   "execution_count": 1,
   "id": "ea4b1f39",
   "metadata": {},
   "outputs": [
    {
     "name": "stderr",
     "output_type": "stream",
     "text": [
      "[nltk_data] Downloading package punkt to\n",
      "[nltk_data]     C:\\Users\\Lenovo\\AppData\\Roaming\\nltk_data...\n",
      "[nltk_data]   Package punkt is already up-to-date!\n",
      "[nltk_data] Downloading package stopwords to\n",
      "[nltk_data]     C:\\Users\\Lenovo\\AppData\\Roaming\\nltk_data...\n",
      "[nltk_data]   Unzipping corpora\\stopwords.zip.\n",
      "[nltk_data] Downloading package wordnet to\n",
      "[nltk_data]     C:\\Users\\Lenovo\\AppData\\Roaming\\nltk_data...\n",
      "[nltk_data]   Package wordnet is already up-to-date!\n",
      "[nltk_data] Downloading package averaged_perceptron_tagger to\n",
      "[nltk_data]     C:\\Users\\Lenovo\\AppData\\Roaming\\nltk_data...\n",
      "[nltk_data]   Unzipping taggers\\averaged_perceptron_tagger.zip.\n"
     ]
    },
    {
     "data": {
      "text/plain": [
       "True"
      ]
     },
     "execution_count": 1,
     "metadata": {},
     "output_type": "execute_result"
    }
   ],
   "source": [
    "import nltk\n",
    "nltk.download('punkt')\n",
    "nltk.download('stopwords')\n",
    "nltk.download('wordnet')\n",
    "nltk.download('averaged_perceptron_tagger')"
   ]
  },
  {
   "cell_type": "code",
   "execution_count": 2,
   "id": "d5c3901e",
   "metadata": {},
   "outputs": [],
   "source": [
    "#sample sentence\n",
    "\n",
    "sentence1=\"Technology has revolutionized the way we live, work, and communicate. From smartphones to artificial intelligence, innovations continue to shape our daily lives. \"\n",
    "sentence2=\"While some argue that digital advancements lead to social isolation, others believe they foster global connectivity and creativity. As we move forward, it's crucial to balance innovation with ethical considerations.\""
   ]
  },
  {
   "cell_type": "code",
   "execution_count": 3,
   "id": "3fe6a579",
   "metadata": {},
   "outputs": [],
   "source": [
    "#tokenization\n",
    "from nltk import word_tokenize, sent_tokenize"
   ]
  },
  {
   "cell_type": "code",
   "execution_count": 4,
   "id": "fbd544d7",
   "metadata": {},
   "outputs": [
    {
     "name": "stdout",
     "output_type": "stream",
     "text": [
      "Tokenized words: ['Technology', 'has', 'revolutionized', 'the', 'way', 'we', 'live', ',', 'work', ',', 'and', 'communicate', '.', 'From', 'smartphones', 'to', 'artificial', 'intelligence', ',', 'innovations', 'continue', 'to', 'shape', 'our', 'daily', 'lives', '.']\n",
      "\n",
      "Tokenized sentences: ['Technology has revolutionized the way we live, work, and communicate.', 'From smartphones to artificial intelligence, innovations continue to shape our daily lives.']\n"
     ]
    }
   ],
   "source": [
    "print(\"Tokenized words:\",word_tokenize(sentence1))\n",
    "print(\"\\nTokenized sentences:\",sent_tokenize(sentence1))"
   ]
  },
  {
   "cell_type": "code",
   "execution_count": 5,
   "id": "59801827",
   "metadata": {},
   "outputs": [
    {
     "name": "stdout",
     "output_type": "stream",
     "text": [
      "Tagging parts of speech: [('Technology', 'NN'), ('has', 'VBZ'), ('revolutionized', 'VBN'), ('the', 'DT'), ('way', 'NN'), ('we', 'PRP'), ('live', 'VBP'), (',', ','), ('work', 'NN'), (',', ','), ('and', 'CC'), ('communicate', 'NN'), ('.', '.'), ('From', 'IN'), ('smartphones', 'NNS'), ('to', 'TO'), ('artificial', 'JJ'), ('intelligence', 'NN'), (',', ','), ('innovations', 'NNS'), ('continue', 'VBP'), ('to', 'TO'), ('shape', 'VB'), ('our', 'PRP$'), ('daily', 'JJ'), ('lives', 'NNS'), ('.', '.'), ('While', 'IN'), ('some', 'DT'), ('argue', 'VBP'), ('that', 'IN'), ('digital', 'JJ'), ('advancements', 'NNS'), ('lead', 'VBP'), ('to', 'TO'), ('social', 'JJ'), ('isolation', 'NN'), (',', ','), ('others', 'NNS'), ('believe', 'VBP'), ('they', 'PRP'), ('foster', 'VBP'), ('global', 'JJ'), ('connectivity', 'NN'), ('and', 'CC'), ('creativity', 'NN'), ('.', '.'), ('As', 'IN'), ('we', 'PRP'), ('move', 'VBP'), ('forward', 'RB'), (',', ','), ('it', 'PRP'), (\"'s\", 'VBZ'), ('crucial', 'JJ'), ('to', 'TO'), ('balance', 'VB'), ('innovation', 'NN'), ('with', 'IN'), ('ethical', 'JJ'), ('considerations', 'NNS'), ('.', '.')]\n"
     ]
    }
   ],
   "source": [
    "#POS tagging\n",
    "\n",
    "from nltk import pos_tag\n",
    "token=word_tokenize(sentence1)+word_tokenize(sentence2)\n",
    "tagged=pos_tag(token)\n",
    "print(\"Tagging parts of speech:\",tagged)"
   ]
  },
  {
   "cell_type": "code",
   "execution_count": 6,
   "id": "a3d35134",
   "metadata": {},
   "outputs": [
    {
     "name": "stdout",
     "output_type": "stream",
     "text": [
      "Unclean version: ['Technology', 'has', 'revolutionized', 'the', 'way', 'we', 'live', ',', 'work', ',', 'and', 'communicate', '.', 'From', 'smartphones', 'to', 'artificial', 'intelligence', ',', 'innovations', 'continue', 'to', 'shape', 'our', 'daily', 'lives', '.']\n",
      "\n",
      "Cleaned version: ['Technology', 'revolutionized', 'way', 'live', ',', 'work', ',', 'communicate', '.', 'From', 'smartphones', 'artificial', 'intelligence', ',', 'innovations', 'continue', 'shape', 'daily', 'lives', '.']\n"
     ]
    }
   ],
   "source": [
    "#stop word removal\n",
    "\n",
    "from nltk.corpus import stopwords\n",
    "stop_words=stopwords.words('english')\n",
    "token=word_tokenize(sentence1)\n",
    "cleaned_token=[]\n",
    "for word in token:\n",
    "    if word not in stop_words:\n",
    "        cleaned_token.append(word)\n",
    "print(\"Unclean version:\",token)\n",
    "print(\"\\nCleaned version:\",cleaned_token)"
   ]
  },
  {
   "cell_type": "code",
   "execution_count": 7,
   "id": "60ad948e",
   "metadata": {},
   "outputs": [
    {
     "name": "stdout",
     "output_type": "stream",
     "text": [
      "while some argu that digit advanc lead to social isol , other believ they foster global connect and creativ . as we move forward , it 's crucial to balanc innov with ethic consider .\n"
     ]
    }
   ],
   "source": [
    "#stemming\n",
    "\n",
    "from nltk.stem import PorterStemmer\n",
    "stemmer=PorterStemmer()\n",
    "token=word_tokenize(sentence2)\n",
    "stemmed=[stemmer.stem(word) for word in token]\n",
    "print(\" \".join(stemmed))"
   ]
  },
  {
   "cell_type": "code",
   "execution_count": 9,
   "id": "6558c96e",
   "metadata": {},
   "outputs": [
    {
     "name": "stderr",
     "output_type": "stream",
     "text": [
      "[nltk_data] Downloading package omw-1.4 to\n",
      "[nltk_data]     C:\\Users\\Lenovo\\AppData\\Roaming\\nltk_data...\n"
     ]
    },
    {
     "name": "stdout",
     "output_type": "stream",
     "text": [
      "While some argue that digital advancement lead to social isolation , others believe they foster global connectivity and creativity . As we move forward , it 's crucial to balance innovation with ethical consideration .\n"
     ]
    }
   ],
   "source": [
    "#lemmatization\n",
    "\n",
    "from nltk.stem import WordNetLemmatizer\n",
    "nltk.download('omw-1.4')\n",
    "lemmatizer=WordNetLemmatizer()\n",
    "token=word_tokenize(sentence2)\n",
    "lemmatized_output=[lemmatizer.lemmatize(word) for word in token]\n",
    "print(\" \".join(lemmatized_output))"
   ]
  },
  {
   "cell_type": "markdown",
   "id": "5c9a9da9",
   "metadata": {},
   "source": [
    "Section B"
   ]
  },
  {
   "cell_type": "code",
   "execution_count": 10,
   "id": "02d5a581",
   "metadata": {},
   "outputs": [],
   "source": [
    "import pandas as pd \n",
    "from sklearn.feature_extraction.text import TfidfVectorizer"
   ]
  },
  {
   "cell_type": "code",
   "execution_count": 11,
   "id": "d37486b3",
   "metadata": {},
   "outputs": [],
   "source": [
    "documentA='The old oak tree stood tall in the middle of the forest,its branches reaching out like ancient fingers'\n",
    "documentB='The children laughed joyfully as they played in the park,their voices echoing through the trees'"
   ]
  },
  {
   "cell_type": "code",
   "execution_count": 12,
   "id": "e7217d7f",
   "metadata": {},
   "outputs": [],
   "source": [
    "#creating bag of words\n",
    "bagOfWordsA=documentA.split(' ')\n",
    "bagOfWordsB=documentB.split(' ')"
   ]
  },
  {
   "cell_type": "code",
   "execution_count": 13,
   "id": "dde88184",
   "metadata": {},
   "outputs": [],
   "source": [
    "uniqueWords=set(bagOfWordsA).union(bagOfWordsB)"
   ]
  },
  {
   "cell_type": "code",
   "execution_count": 14,
   "id": "04acd339",
   "metadata": {},
   "outputs": [],
   "source": [
    "numOfWordsA=dict.fromkeys(uniqueWords,0)\n",
    "for word in bagOfWordsA:\n",
    "    numOfWordsA[word]+=1\n",
    "\n",
    "numOfWordsB=dict.fromkeys(uniqueWords,0)\n",
    "for word in bagOfWordsB:\n",
    "    numOfWordsB[word]+=1\n",
    "    "
   ]
  },
  {
   "cell_type": "code",
   "execution_count": 15,
   "id": "70e12a02",
   "metadata": {},
   "outputs": [],
   "source": [
    "#computing term frequency(TF)\n",
    "\n",
    "def computeTF(wordDict,bagOfWords):\n",
    "    tfDict={}\n",
    "    bagOfWordsCount=len(bagOfWords)\n",
    "    for word, count in wordDict.items():\n",
    "        tfDict[word]=count/float(bagOfWordsCount)\n",
    "    return tfDict"
   ]
  },
  {
   "cell_type": "code",
   "execution_count": 16,
   "id": "64e1cc76",
   "metadata": {},
   "outputs": [],
   "source": [
    "tfA=computeTF(numOfWordsA,bagOfWordsA)\n",
    "tfB=computeTF(numOfWordsB,bagOfWordsB)"
   ]
  },
  {
   "cell_type": "code",
   "execution_count": 17,
   "id": "e06d7933",
   "metadata": {},
   "outputs": [
    {
     "data": {
      "text/plain": [
       "{'branches': 0.05555555555555555,\n",
       " 'of': 0.05555555555555555,\n",
       " 'the': 0.1111111111111111,\n",
       " 'echoing': 0.0,\n",
       " 'tree': 0.05555555555555555,\n",
       " 'through': 0.0,\n",
       " 'children': 0.0,\n",
       " 'as': 0.0,\n",
       " 'joyfully': 0.0,\n",
       " 'park,their': 0.0,\n",
       " 'stood': 0.05555555555555555,\n",
       " 'out': 0.05555555555555555,\n",
       " 'like': 0.05555555555555555,\n",
       " 'played': 0.0,\n",
       " 'trees': 0.0,\n",
       " 'they': 0.0,\n",
       " 'ancient': 0.05555555555555555,\n",
       " 'tall': 0.05555555555555555,\n",
       " 'oak': 0.05555555555555555,\n",
       " 'The': 0.05555555555555555,\n",
       " 'fingers': 0.05555555555555555,\n",
       " 'forest,its': 0.05555555555555555,\n",
       " 'old': 0.05555555555555555,\n",
       " 'reaching': 0.05555555555555555,\n",
       " 'in': 0.05555555555555555,\n",
       " 'voices': 0.0,\n",
       " 'middle': 0.05555555555555555,\n",
       " 'laughed': 0.0}"
      ]
     },
     "execution_count": 17,
     "metadata": {},
     "output_type": "execute_result"
    }
   ],
   "source": [
    "tfA"
   ]
  },
  {
   "cell_type": "code",
   "execution_count": 18,
   "id": "53c065e7",
   "metadata": {},
   "outputs": [
    {
     "data": {
      "text/plain": [
       "{'branches': 0.0,\n",
       " 'of': 0.0,\n",
       " 'the': 0.13333333333333333,\n",
       " 'echoing': 0.06666666666666667,\n",
       " 'tree': 0.0,\n",
       " 'through': 0.06666666666666667,\n",
       " 'children': 0.06666666666666667,\n",
       " 'as': 0.06666666666666667,\n",
       " 'joyfully': 0.06666666666666667,\n",
       " 'park,their': 0.06666666666666667,\n",
       " 'stood': 0.0,\n",
       " 'out': 0.0,\n",
       " 'like': 0.0,\n",
       " 'played': 0.06666666666666667,\n",
       " 'trees': 0.06666666666666667,\n",
       " 'they': 0.06666666666666667,\n",
       " 'ancient': 0.0,\n",
       " 'tall': 0.0,\n",
       " 'oak': 0.0,\n",
       " 'The': 0.06666666666666667,\n",
       " 'fingers': 0.0,\n",
       " 'forest,its': 0.0,\n",
       " 'old': 0.0,\n",
       " 'reaching': 0.0,\n",
       " 'in': 0.06666666666666667,\n",
       " 'voices': 0.06666666666666667,\n",
       " 'middle': 0.0,\n",
       " 'laughed': 0.06666666666666667}"
      ]
     },
     "execution_count": 18,
     "metadata": {},
     "output_type": "execute_result"
    }
   ],
   "source": [
    "tfB"
   ]
  },
  {
   "cell_type": "code",
   "execution_count": 20,
   "id": "a6aeda6b",
   "metadata": {},
   "outputs": [
    {
     "data": {
      "text/plain": [
       "{'branches': 0.6931471805599453,\n",
       " 'of': 0.6931471805599453,\n",
       " 'the': 0.0,\n",
       " 'echoing': 0.6931471805599453,\n",
       " 'tree': 0.6931471805599453,\n",
       " 'through': 0.6931471805599453,\n",
       " 'children': 0.6931471805599453,\n",
       " 'as': 0.6931471805599453,\n",
       " 'joyfully': 0.6931471805599453,\n",
       " 'park,their': 0.6931471805599453,\n",
       " 'stood': 0.6931471805599453,\n",
       " 'out': 0.6931471805599453,\n",
       " 'like': 0.6931471805599453,\n",
       " 'played': 0.6931471805599453,\n",
       " 'trees': 0.6931471805599453,\n",
       " 'they': 0.6931471805599453,\n",
       " 'ancient': 0.6931471805599453,\n",
       " 'tall': 0.6931471805599453,\n",
       " 'oak': 0.6931471805599453,\n",
       " 'The': 0.0,\n",
       " 'fingers': 0.6931471805599453,\n",
       " 'forest,its': 0.6931471805599453,\n",
       " 'old': 0.6931471805599453,\n",
       " 'reaching': 0.6931471805599453,\n",
       " 'in': 0.0,\n",
       " 'voices': 0.6931471805599453,\n",
       " 'middle': 0.6931471805599453,\n",
       " 'laughed': 0.6931471805599453}"
      ]
     },
     "execution_count": 20,
     "metadata": {},
     "output_type": "execute_result"
    }
   ],
   "source": [
    "#computing inverse document frequency(IDF)\n",
    "\n",
    "def computeIDF(documents):\n",
    "    import math\n",
    "    N=len(documents)\n",
    "    idfDict=dict.fromkeys(documents[0].keys(),0)\n",
    "    for document in documents:\n",
    "        for word,val in document.items():\n",
    "            if val>0:\n",
    "                idfDict[word]+=1\n",
    "    \n",
    "    for word,val in idfDict.items():\n",
    "        idfDict[word]=math.log(N/float(val))\n",
    "    return idfDict\n",
    "idfs=computeIDF([numOfWordsA,numOfWordsB])\n",
    "idfs"
   ]
  },
  {
   "cell_type": "code",
   "execution_count": 21,
   "id": "f68064cc",
   "metadata": {},
   "outputs": [
    {
     "data": {
      "text/html": [
       "<div>\n",
       "<style scoped>\n",
       "    .dataframe tbody tr th:only-of-type {\n",
       "        vertical-align: middle;\n",
       "    }\n",
       "\n",
       "    .dataframe tbody tr th {\n",
       "        vertical-align: top;\n",
       "    }\n",
       "\n",
       "    .dataframe thead th {\n",
       "        text-align: right;\n",
       "    }\n",
       "</style>\n",
       "<table border=\"1\" class=\"dataframe\">\n",
       "  <thead>\n",
       "    <tr style=\"text-align: right;\">\n",
       "      <th></th>\n",
       "      <th>branches</th>\n",
       "      <th>of</th>\n",
       "      <th>the</th>\n",
       "      <th>echoing</th>\n",
       "      <th>tree</th>\n",
       "      <th>through</th>\n",
       "      <th>children</th>\n",
       "      <th>as</th>\n",
       "      <th>joyfully</th>\n",
       "      <th>park,their</th>\n",
       "      <th>...</th>\n",
       "      <th>oak</th>\n",
       "      <th>The</th>\n",
       "      <th>fingers</th>\n",
       "      <th>forest,its</th>\n",
       "      <th>old</th>\n",
       "      <th>reaching</th>\n",
       "      <th>in</th>\n",
       "      <th>voices</th>\n",
       "      <th>middle</th>\n",
       "      <th>laughed</th>\n",
       "    </tr>\n",
       "  </thead>\n",
       "  <tbody>\n",
       "    <tr>\n",
       "      <th>0</th>\n",
       "      <td>0.038508</td>\n",
       "      <td>0.038508</td>\n",
       "      <td>0.0</td>\n",
       "      <td>0.00000</td>\n",
       "      <td>0.038508</td>\n",
       "      <td>0.00000</td>\n",
       "      <td>0.00000</td>\n",
       "      <td>0.00000</td>\n",
       "      <td>0.00000</td>\n",
       "      <td>0.00000</td>\n",
       "      <td>...</td>\n",
       "      <td>0.038508</td>\n",
       "      <td>0.0</td>\n",
       "      <td>0.038508</td>\n",
       "      <td>0.038508</td>\n",
       "      <td>0.038508</td>\n",
       "      <td>0.038508</td>\n",
       "      <td>0.0</td>\n",
       "      <td>0.00000</td>\n",
       "      <td>0.038508</td>\n",
       "      <td>0.00000</td>\n",
       "    </tr>\n",
       "    <tr>\n",
       "      <th>1</th>\n",
       "      <td>0.000000</td>\n",
       "      <td>0.000000</td>\n",
       "      <td>0.0</td>\n",
       "      <td>0.04621</td>\n",
       "      <td>0.000000</td>\n",
       "      <td>0.04621</td>\n",
       "      <td>0.04621</td>\n",
       "      <td>0.04621</td>\n",
       "      <td>0.04621</td>\n",
       "      <td>0.04621</td>\n",
       "      <td>...</td>\n",
       "      <td>0.000000</td>\n",
       "      <td>0.0</td>\n",
       "      <td>0.000000</td>\n",
       "      <td>0.000000</td>\n",
       "      <td>0.000000</td>\n",
       "      <td>0.000000</td>\n",
       "      <td>0.0</td>\n",
       "      <td>0.04621</td>\n",
       "      <td>0.000000</td>\n",
       "      <td>0.04621</td>\n",
       "    </tr>\n",
       "  </tbody>\n",
       "</table>\n",
       "<p>2 rows × 28 columns</p>\n",
       "</div>"
      ],
      "text/plain": [
       "   branches        of  the  echoing      tree  through  children       as  \\\n",
       "0  0.038508  0.038508  0.0  0.00000  0.038508  0.00000   0.00000  0.00000   \n",
       "1  0.000000  0.000000  0.0  0.04621  0.000000  0.04621   0.04621  0.04621   \n",
       "\n",
       "   joyfully  park,their  ...       oak  The   fingers  forest,its       old  \\\n",
       "0   0.00000     0.00000  ...  0.038508  0.0  0.038508    0.038508  0.038508   \n",
       "1   0.04621     0.04621  ...  0.000000  0.0  0.000000    0.000000  0.000000   \n",
       "\n",
       "   reaching   in   voices    middle  laughed  \n",
       "0  0.038508  0.0  0.00000  0.038508  0.00000  \n",
       "1  0.000000  0.0  0.04621  0.000000  0.04621  \n",
       "\n",
       "[2 rows x 28 columns]"
      ]
     },
     "execution_count": 21,
     "metadata": {},
     "output_type": "execute_result"
    }
   ],
   "source": [
    "#computing term frequency - inverse document frequency(TF/IDF)\n",
    "def computeTFIDF(tfBagOfWords,idfs):\n",
    "    tfidf={}\n",
    "    for word, val in tfBagOfWords.items():\n",
    "        tfidf[word]=val*idfs[word]\n",
    "    return tfidf\n",
    "\n",
    "tfidfA=computeTFIDF(tfA,idfs)\n",
    "tfidfB=computeTFIDF(tfB,idfs)\n",
    "df=pd.DataFrame([tfidfA,tfidfB])\n",
    "df"
   ]
  },
  {
   "cell_type": "code",
   "execution_count": null,
   "id": "4d892ead",
   "metadata": {},
   "outputs": [],
   "source": []
  }
 ],
 "metadata": {
  "kernelspec": {
   "display_name": "Python 3 (ipykernel)",
   "language": "python",
   "name": "python3"
  },
  "language_info": {
   "codemirror_mode": {
    "name": "ipython",
    "version": 3
   },
   "file_extension": ".py",
   "mimetype": "text/x-python",
   "name": "python",
   "nbconvert_exporter": "python",
   "pygments_lexer": "ipython3",
   "version": "3.10.9"
  }
 },
 "nbformat": 4,
 "nbformat_minor": 5
}
